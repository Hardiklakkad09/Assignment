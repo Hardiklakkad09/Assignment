{
 "cells": [
  {
   "cell_type": "markdown",
   "metadata": {},
   "source": [
    "<h1> Project: Mad Libs Generator <h1>\n"
   ]
  },
  {
   "cell_type": "code",
   "execution_count": 14,
   "metadata": {},
   "outputs": [],
   "source": [
    "story_template = \"\"\" Once upon a {time_of_day}, A summer son to visit the {place}. it was a really {adjective} day and sky colour {colour}.\n",
    "Summer son saw a {animal} and {bird} that was {verb_ing}. Everyone was {emotion} to see it, and i felt {feeling}\"\"\""
   ]
  },
  {
   "cell_type": "code",
   "execution_count": 17,
   "metadata": {},
   "outputs": [
    {
     "name": "stdout",
     "output_type": "stream",
     "text": [
      "Once upon a None, A summer son to visit the None. \n",
      " It was a really None day and sky colour None.\n",
      " Summer son saw a None and None that was None.\n",
      " Everyone was None to see it, and i felt None.\n"
     ]
    }
   ],
   "source": [
    "def check_input(input):\n",
    "    # check if input is empty\n",
    "    if not input :\n",
    "        print('User input can not be empty')\n",
    "\n",
    "    # check if input is numeric\n",
    "    if input .isdigit():\n",
    "        print('Input is not valid, Please input string')\n",
    "        input\n",
    "\n",
    "time_of_day = check_input(input('Enter a time of day (e.g. Monday, Tuesday...): '))\n",
    "place = check_input(input('Enter your visit place name: '))\n",
    "adjective = check_input(input('Enter an adjective: '))\n",
    "colour = check_input(input ('Enter a colour name : '))\n",
    "animal = check_input(input('Enter an animal name: '))\n",
    "bird = check_input(input('Enter a bird name: '))\n",
    "verb_ing = check_input(input('Enter verb with -ing format: '))\n",
    "emotion = check_input(input('Enter you emotion: '))\n",
    "feeling = check_input(input('Enter you felling: '))\n",
    "\n",
    "story = (f\"Once upon a {time_of_day}, A summer son to visit the {place}. \\n It was a really {adjective} day and sky colour {colour}.\\n Summer son saw a {animal} and {bird} that was {verb_ing}.\\n Everyone was {emotion} to see it, and i felt {feeling}.\")\n",
    "\n",
    "print(story)\n",
    "\n",
    "\n"
   ]
  }
 ],
 "metadata": {
  "kernelspec": {
   "display_name": "Python 3",
   "language": "python",
   "name": "python3"
  },
  "language_info": {
   "codemirror_mode": {
    "name": "ipython",
    "version": 3
   },
   "file_extension": ".py",
   "mimetype": "text/x-python",
   "name": "python",
   "nbconvert_exporter": "python",
   "pygments_lexer": "ipython3",
   "version": "3.11.9"
  }
 },
 "nbformat": 4,
 "nbformat_minor": 2
}
