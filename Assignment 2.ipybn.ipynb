{
 "cells": [
  {
   "cell_type": "code",
   "execution_count": 3,
   "metadata": {},
   "outputs": [
    {
     "name": "stdout",
     "output_type": "stream",
     "text": [
      "Welcome to number guessing game\n",
      "You can guess a number between 1 to 25\n",
      "Your guess number is higher then actual number! Try again\n",
      "Your guess number is higher then actual number! Try again\n"
     ]
    }
   ],
   "source": [
    "###Creat a random numebr for user\n",
    "import random\n",
    "guess_numer = random.randint(1,5)\n",
    "\n",
    "print('Welcome to number guessing game')\n",
    "print('You can guess a number between 1 to 25')\n",
    "\n",
    "while True:\n",
    "    guess = int(input('You can guess your number'))\n",
    "    if guess > guess_numer:\n",
    "        print('Your guess number is higher then actual number {guess}! Try again')\n",
    "    elif guess < guess_numer:\n",
    "        print('Your guess numbrer is lower then actual number {guess}! Try again')\n",
    "    elif guess == guess_numer:\n",
    "        print('Congrats you guess number is perfect match with actucal number is',guess_numer)\n",
    "        break\n",
    "\n",
    "    ##We ask to user should we contine this game or not \n",
    "    play_again = input('Would to like to play againg? (yes/no): ').lower()\n",
    "    if play_again != 'yes':\n",
    "        print('Thanks you for playing Goodbuy.')\n",
    "        break\n",
    "    \n",
    "    "
   ]
  },
  {
   "cell_type": "code",
   "execution_count": null,
   "metadata": {},
   "outputs": [],
   "source": []
  },
  {
   "cell_type": "code",
   "execution_count": null,
   "metadata": {},
   "outputs": [],
   "source": []
  }
 ],
 "metadata": {
  "kernelspec": {
   "display_name": "Python 3",
   "language": "python",
   "name": "python3"
  },
  "language_info": {
   "codemirror_mode": {
    "name": "ipython",
    "version": 3
   },
   "file_extension": ".py",
   "mimetype": "text/x-python",
   "name": "python",
   "nbconvert_exporter": "python",
   "pygments_lexer": "ipython3",
   "version": "3.11.9"
  }
 },
 "nbformat": 4,
 "nbformat_minor": 2
}
